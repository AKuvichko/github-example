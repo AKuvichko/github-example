{
 "cells": [
  {
   "cell_type": "markdown",
   "metadata": {},
   "source": [
    "<h1 align=center><bold>This is the lab #3.<br />I have compiled all 3 parts in one file, so please scroll down for parts 2 and 3.</bold></h1>"
   ]
  },
  {
   "cell_type": "markdown",
   "metadata": {},
   "source": [
    "## <center>Let's start with part 1 (of 3)</center>"
   ]
  },
  {
   "cell_type": "markdown",
   "metadata": {},
   "source": [
    "### Importing libraries"
   ]
  },
  {
   "cell_type": "code",
   "execution_count": 1,
   "metadata": {},
   "outputs": [],
   "source": [
    "import numpy as np # library to handle data in a vectorized manner\n",
    "import pandas as pd # library for data analsysis\n",
    "import requests\n",
    "import io\n",
    "import lxml"
   ]
  },
  {
   "cell_type": "markdown",
   "metadata": {},
   "source": [
    "### Parsing wikipedia url. Getting a substring representing the table. Doing some html tags replacements."
   ]
  },
  {
   "cell_type": "code",
   "execution_count": 2,
   "metadata": {},
   "outputs": [],
   "source": [
    "url=\"https://en.wikipedia.org/wiki/List_of_postal_codes_of_Canada:_M\"\n",
    "s=str(requests.get(url).content)\n",
    "s1_to_find = \"<table class=\\\"wikitable sortable\\\">\"\n",
    "s2_to_find = \"</table>\"\n",
    "\n",
    "subs = s[s.find(s1_to_find) + len(s1_to_find):s.find(s2_to_find)]\n",
    "subs = subs.replace(\"\\\\n\",\"\").replace(\"<tbody>\",\"\").replace(\"</tr></tbody>\",\"\").replace(\"<tr>\",\"\")\n",
    "\n",
    "sarray = subs.split(\"</tr>\")\n"
   ]
  },
  {
   "cell_type": "markdown",
   "metadata": {},
   "source": [
    "### Let's parse each html row to get its items: <b>Postal Cod</b>, <b>Borough</b>, and <b>Neighborhood</b>\n",
    "#### We will drop <u><i>Not assigned</i></u> "
   ]
  },
  {
   "cell_type": "code",
   "execution_count": 3,
   "metadata": {},
   "outputs": [
    {
     "output_type": "execute_result",
     "data": {
      "text/plain": "  Postal Code           Borough                                  Neighborhood\n0         M3A        North York                                     Parkwoods\n1         M4A        North York                              Victoria Village\n2         M5A  Downtown Toronto                     Regent Park, Harbourfront\n3         M6A        North York              Lawrence Manor, Lawrence Heights\n4         M7A  Downtown Toronto  Queen\\'s Park, Ontario Provincial Government",
      "text/html": "<div>\n<style scoped>\n    .dataframe tbody tr th:only-of-type {\n        vertical-align: middle;\n    }\n\n    .dataframe tbody tr th {\n        vertical-align: top;\n    }\n\n    .dataframe thead th {\n        text-align: right;\n    }\n</style>\n<table border=\"1\" class=\"dataframe\">\n  <thead>\n    <tr style=\"text-align: right;\">\n      <th></th>\n      <th>Postal Code</th>\n      <th>Borough</th>\n      <th>Neighborhood</th>\n    </tr>\n  </thead>\n  <tbody>\n    <tr>\n      <th>0</th>\n      <td>M3A</td>\n      <td>North York</td>\n      <td>Parkwoods</td>\n    </tr>\n    <tr>\n      <th>1</th>\n      <td>M4A</td>\n      <td>North York</td>\n      <td>Victoria Village</td>\n    </tr>\n    <tr>\n      <th>2</th>\n      <td>M5A</td>\n      <td>Downtown Toronto</td>\n      <td>Regent Park, Harbourfront</td>\n    </tr>\n    <tr>\n      <th>3</th>\n      <td>M6A</td>\n      <td>North York</td>\n      <td>Lawrence Manor, Lawrence Heights</td>\n    </tr>\n    <tr>\n      <th>4</th>\n      <td>M7A</td>\n      <td>Downtown Toronto</td>\n      <td>Queen\\'s Park, Ontario Provincial Government</td>\n    </tr>\n  </tbody>\n</table>\n</div>"
     },
     "metadata": {},
     "execution_count": 3
    }
   ],
   "source": [
    "indexPost = 1\n",
    "indexBor = 2\n",
    "indexNeigh = 3\n",
    "\n",
    "df = pd.DataFrame({\"Postal Code\" : [], \"Borough\" : [], \"Neighborhood\" : []} )\n",
    "for i in range(1, len(sarray)):\n",
    "    retList = sarray[i].replace(\"</td>\",\"\").split(\"<td>\")\n",
    "    if retList[indexBor] != \"Not assigned\":\n",
    "        df = df.append({\"Postal Code\" : retList[indexPost],\"Borough\" : retList[indexBor], \"Neighborhood\" : retList[indexNeigh]}, ignore_index = True)\n",
    "df.head()"
   ]
  },
  {
   "cell_type": "markdown",
   "metadata": {},
   "source": [
    "### Finally, let's see the dataframe shape"
   ]
  },
  {
   "cell_type": "code",
   "execution_count": 4,
   "metadata": {},
   "outputs": [
    {
     "output_type": "execute_result",
     "data": {
      "text/plain": "(103, 3)"
     },
     "metadata": {},
     "execution_count": 4
    }
   ],
   "source": [
    "df.shape"
   ]
  },
  {
   "cell_type": "markdown",
   "metadata": {},
   "source": [
    "## <center>Ok, part 1 completed. Let's do the part 2 (of 3)</center>"
   ]
  },
  {
   "cell_type": "markdown",
   "metadata": {},
   "source": [
    "### Importing libraries"
   ]
  },
  {
   "cell_type": "code",
   "execution_count": 5,
   "metadata": {},
   "outputs": [],
   "source": [
    "import geocoder # import geocoder"
   ]
  },
  {
   "cell_type": "code",
   "execution_count": 6,
   "metadata": {},
   "outputs": [],
   "source": [
    "# initialize your variable to None\n",
    "lat_lng_coords = None\n",
    "\n",
    "# loop until you get the coordinates\n",
    "#for indCodes in df[\"Postal Code\"]:\n",
    "#    while(lat_lng_coords is None):\n",
    "#        g = geocoder.google(\"Toronto, Ontario, M5G\")\n",
    "#        lat_lng_coords = g.latlng\n",
    "#    latitude = lat_lng_coords[0]\n",
    "#    longitude = lat_lng_coords[1]\n"
   ]
  },
  {
   "cell_type": "markdown",
   "metadata": {},
   "source": [
    "#### Unfortunately, geocoder doesn't work. So let's proceed with csv. Loading data first."
   ]
  },
  {
   "cell_type": "code",
   "execution_count": 7,
   "metadata": {},
   "outputs": [
    {
     "output_type": "execute_result",
     "data": {
      "text/plain": "  Postal Code   Latitude  Longitude\n0         M1B  43.806686 -79.194353\n1         M1C  43.784535 -79.160497\n2         M1E  43.763573 -79.188711\n3         M1G  43.770992 -79.216917\n4         M1H  43.773136 -79.239476",
      "text/html": "<div>\n<style scoped>\n    .dataframe tbody tr th:only-of-type {\n        vertical-align: middle;\n    }\n\n    .dataframe tbody tr th {\n        vertical-align: top;\n    }\n\n    .dataframe thead th {\n        text-align: right;\n    }\n</style>\n<table border=\"1\" class=\"dataframe\">\n  <thead>\n    <tr style=\"text-align: right;\">\n      <th></th>\n      <th>Postal Code</th>\n      <th>Latitude</th>\n      <th>Longitude</th>\n    </tr>\n  </thead>\n  <tbody>\n    <tr>\n      <th>0</th>\n      <td>M1B</td>\n      <td>43.806686</td>\n      <td>-79.194353</td>\n    </tr>\n    <tr>\n      <th>1</th>\n      <td>M1C</td>\n      <td>43.784535</td>\n      <td>-79.160497</td>\n    </tr>\n    <tr>\n      <th>2</th>\n      <td>M1E</td>\n      <td>43.763573</td>\n      <td>-79.188711</td>\n    </tr>\n    <tr>\n      <th>3</th>\n      <td>M1G</td>\n      <td>43.770992</td>\n      <td>-79.216917</td>\n    </tr>\n    <tr>\n      <th>4</th>\n      <td>M1H</td>\n      <td>43.773136</td>\n      <td>-79.239476</td>\n    </tr>\n  </tbody>\n</table>\n</div>"
     },
     "metadata": {},
     "execution_count": 7
    }
   ],
   "source": [
    "url_csv = 'https://cocl.us/Geospatial_data'\n",
    "df_latlong = pd.read_csv(url_csv)\n",
    "df_latlong.head()"
   ]
  },
  {
   "cell_type": "markdown",
   "metadata": {},
   "source": [
    "### Now let's merge df's"
   ]
  },
  {
   "cell_type": "code",
   "execution_count": 8,
   "metadata": {},
   "outputs": [
    {
     "output_type": "execute_result",
     "data": {
      "text/plain": "  Postal Code           Borough                                  Neighborhood  \\\n0         M3A        North York                                     Parkwoods   \n1         M4A        North York                              Victoria Village   \n2         M5A  Downtown Toronto                     Regent Park, Harbourfront   \n3         M6A        North York              Lawrence Manor, Lawrence Heights   \n4         M7A  Downtown Toronto  Queen\\'s Park, Ontario Provincial Government   \n\n    Latitude  Longitude  \n0  43.753259 -79.329656  \n1  43.725882 -79.315572  \n2  43.654260 -79.360636  \n3  43.718518 -79.464763  \n4  43.662301 -79.389494  ",
      "text/html": "<div>\n<style scoped>\n    .dataframe tbody tr th:only-of-type {\n        vertical-align: middle;\n    }\n\n    .dataframe tbody tr th {\n        vertical-align: top;\n    }\n\n    .dataframe thead th {\n        text-align: right;\n    }\n</style>\n<table border=\"1\" class=\"dataframe\">\n  <thead>\n    <tr style=\"text-align: right;\">\n      <th></th>\n      <th>Postal Code</th>\n      <th>Borough</th>\n      <th>Neighborhood</th>\n      <th>Latitude</th>\n      <th>Longitude</th>\n    </tr>\n  </thead>\n  <tbody>\n    <tr>\n      <th>0</th>\n      <td>M3A</td>\n      <td>North York</td>\n      <td>Parkwoods</td>\n      <td>43.753259</td>\n      <td>-79.329656</td>\n    </tr>\n    <tr>\n      <th>1</th>\n      <td>M4A</td>\n      <td>North York</td>\n      <td>Victoria Village</td>\n      <td>43.725882</td>\n      <td>-79.315572</td>\n    </tr>\n    <tr>\n      <th>2</th>\n      <td>M5A</td>\n      <td>Downtown Toronto</td>\n      <td>Regent Park, Harbourfront</td>\n      <td>43.654260</td>\n      <td>-79.360636</td>\n    </tr>\n    <tr>\n      <th>3</th>\n      <td>M6A</td>\n      <td>North York</td>\n      <td>Lawrence Manor, Lawrence Heights</td>\n      <td>43.718518</td>\n      <td>-79.464763</td>\n    </tr>\n    <tr>\n      <th>4</th>\n      <td>M7A</td>\n      <td>Downtown Toronto</td>\n      <td>Queen\\'s Park, Ontario Provincial Government</td>\n      <td>43.662301</td>\n      <td>-79.389494</td>\n    </tr>\n  </tbody>\n</table>\n</div>"
     },
     "metadata": {},
     "execution_count": 8
    }
   ],
   "source": [
    "dfmerge = df.merge(df_latlong, on=\"Postal Code\")\n",
    "dfmerge.head()"
   ]
  },
  {
   "cell_type": "code",
   "execution_count": 9,
   "metadata": {},
   "outputs": [
    {
     "output_type": "execute_result",
     "data": {
      "text/plain": "(103, 5)"
     },
     "metadata": {},
     "execution_count": 9
    }
   ],
   "source": [
    "dfmerge.shape"
   ]
  },
  {
   "cell_type": "markdown",
   "metadata": {},
   "source": [
    "## <center>Ok, part 2 completed. Let's do the part 3 (of 3)</center>"
   ]
  },
  {
   "cell_type": "markdown",
   "metadata": {},
   "source": [
    "### Importing libs"
   ]
  },
  {
   "cell_type": "code",
   "execution_count": 10,
   "metadata": {},
   "outputs": [],
   "source": [
    "import folium\n",
    "from sklearn.cluster import KMeans\n",
    "import matplotlib.cm as cm\n",
    "import matplotlib.colors as colors"
   ]
  },
  {
   "cell_type": "markdown",
   "metadata": {},
   "source": [
    "### KMeans for 'kclusters' clusters on the data"
   ]
  },
  {
   "cell_type": "code",
   "execution_count": 11,
   "metadata": {},
   "outputs": [
    {
     "output_type": "execute_result",
     "data": {
      "text/plain": "array([[ 43.66680592, -79.37406473],\n       [ 43.63776628, -79.53356934],\n       [ 43.78769261, -79.22129714],\n       [ 43.76524349, -79.39441482],\n       [ 43.72998549, -79.29644876],\n       [ 43.68566194, -79.44295946],\n       [ 43.72751776, -79.53223569]])"
     },
     "metadata": {},
     "execution_count": 11
    }
   ],
   "source": [
    "# set number of clusters\n",
    "kclusters = 7\n",
    "dfKM = dfmerge.drop('Neighborhood', 1).drop('Borough', 1).drop('Postal Code', 1)\n",
    "kmeans = KMeans(n_clusters=kclusters, random_state=0).fit(dfKM)\n",
    "\n",
    "# check cluster labels generated for each row in the dataframe\n",
    "kmeans.cluster_centers_"
   ]
  },
  {
   "cell_type": "markdown",
   "metadata": {},
   "source": [
    "### Let's make a map!"
   ]
  },
  {
   "cell_type": "code",
   "execution_count": 12,
   "metadata": {},
   "outputs": [
    {
     "output_type": "execute_result",
     "data": {
      "text/plain": "<folium.folium.Map at 0x185abb0c358>",
      "text/html": "<div style=\"width:100%;\"><div style=\"position:relative;width:100%;height:0;padding-bottom:60%;\"><span style=\"color:#565656\">Make this Notebook Trusted to load map: File -> Trust Notebook</span><iframe src=\"about:blank\" style=\"position:absolute;width:100%;height:100%;left:0;top:0;border:none !important;\" data-html=PCFET0NUWVBFIGh0bWw+CjxoZWFkPiAgICAKICAgIDxtZXRhIGh0dHAtZXF1aXY9ImNvbnRlbnQtdHlwZSIgY29udGVudD0idGV4dC9odG1sOyBjaGFyc2V0PVVURi04IiAvPgogICAgCiAgICAgICAgPHNjcmlwdD4KICAgICAgICAgICAgTF9OT19UT1VDSCA9IGZhbHNlOwogICAgICAgICAgICBMX0RJU0FCTEVfM0QgPSBmYWxzZTsKICAgICAgICA8L3NjcmlwdD4KICAgIAogICAgPHNjcmlwdCBzcmM9Imh0dHBzOi8vY2RuLmpzZGVsaXZyLm5ldC9ucG0vbGVhZmxldEAxLjYuMC9kaXN0L2xlYWZsZXQuanMiPjwvc2NyaXB0PgogICAgPHNjcmlwdCBzcmM9Imh0dHBzOi8vY29kZS5qcXVlcnkuY29tL2pxdWVyeS0xLjEyLjQubWluLmpzIj48L3NjcmlwdD4KICAgIDxzY3JpcHQgc3JjPSJodHRwczovL21heGNkbi5ib290c3RyYXBjZG4uY29tL2Jvb3RzdHJhcC8zLjIuMC9qcy9ib290c3RyYXAubWluLmpzIj48L3NjcmlwdD4KICAgIDxzY3JpcHQgc3JjPSJodHRwczovL2NkbmpzLmNsb3VkZmxhcmUuY29tL2FqYXgvbGlicy9MZWFmbGV0LmF3ZXNvbWUtbWFya2Vycy8yLjAuMi9sZWFmbGV0LmF3ZXNvbWUtbWFya2Vycy5qcyI+PC9zY3JpcHQ+CiAgICA8bGluayByZWw9InN0eWxlc2hlZXQiIGhyZWY9Imh0dHBzOi8vY2RuLmpzZGVsaXZyLm5ldC9ucG0vbGVhZmxldEAxLjYuMC9kaXN0L2xlYWZsZXQuY3NzIi8+CiAgICA8bGluayByZWw9InN0eWxlc2hlZXQiIGhyZWY9Imh0dHBzOi8vbWF4Y2RuLmJvb3RzdHJhcGNkbi5jb20vYm9vdHN0cmFwLzMuMi4wL2Nzcy9ib290c3RyYXAubWluLmNzcyIvPgogICAgPGxpbmsgcmVsPSJzdHlsZXNoZWV0IiBocmVmPSJodHRwczovL21heGNkbi5ib290c3RyYXBjZG4uY29tL2Jvb3RzdHJhcC8zLjIuMC9jc3MvYm9vdHN0cmFwLXRoZW1lLm1pbi5jc3MiLz4KICAgIDxsaW5rIHJlbD0ic3R5bGVzaGVldCIgaHJlZj0iaHR0cHM6Ly9tYXhjZG4uYm9vdHN0cmFwY2RuLmNvbS9mb250LWF3ZXNvbWUvNC42LjMvY3NzL2ZvbnQtYXdlc29tZS5taW4uY3NzIi8+CiAgICA8bGluayByZWw9InN0eWxlc2hlZXQiIGhyZWY9Imh0dHBzOi8vY2RuanMuY2xvdWRmbGFyZS5jb20vYWpheC9saWJzL0xlYWZsZXQuYXdlc29tZS1tYXJrZXJzLzIuMC4yL2xlYWZsZXQuYXdlc29tZS1tYXJrZXJzLmNzcyIvPgogICAgPGxpbmsgcmVsPSJzdHlsZXNoZWV0IiBocmVmPSJodHRwczovL3Jhd2Nkbi5naXRoYWNrLmNvbS9weXRob24tdmlzdWFsaXphdGlvbi9mb2xpdW0vbWFzdGVyL2ZvbGl1bS90ZW1wbGF0ZXMvbGVhZmxldC5hd2Vzb21lLnJvdGF0ZS5jc3MiLz4KICAgIDxzdHlsZT5odG1sLCBib2R5IHt3aWR0aDogMTAwJTtoZWlnaHQ6IDEwMCU7bWFyZ2luOiAwO3BhZGRpbmc6IDA7fTwvc3R5bGU+CiAgICA8c3R5bGU+I21hcCB7cG9zaXRpb246YWJzb2x1dGU7dG9wOjA7Ym90dG9tOjA7cmlnaHQ6MDtsZWZ0OjA7fTwvc3R5bGU+CiAgICAKICAgICAgICAgICAgPG1ldGEgbmFtZT0idmlld3BvcnQiIGNvbnRlbnQ9IndpZHRoPWRldmljZS13aWR0aCwKICAgICAgICAgICAgICAgIGluaXRpYWwtc2NhbGU9MS4wLCBtYXhpbXVtLXNjYWxlPTEuMCwgdXNlci1zY2FsYWJsZT1ubyIgLz4KICAgICAgICAgICAgPHN0eWxlPgogICAgICAgICAgICAgICAgI21hcF82MjAzYzIyNGI2Zjg0OTA3ODcxOTMyOGM2ZDYxZWQwNiB7CiAgICAgICAgICAgICAgICAgICAgcG9zaXRpb246IHJlbGF0aXZlOwogICAgICAgICAgICAgICAgICAgIHdpZHRoOiAxMDAuMCU7CiAgICAgICAgICAgICAgICAgICAgaGVpZ2h0OiAxMDAuMCU7CiAgICAgICAgICAgICAgICAgICAgbGVmdDogMC4wJTsKICAgICAgICAgICAgICAgICAgICB0b3A6IDAuMCU7CiAgICAgICAgICAgICAgICB9CiAgICAgICAgICAgIDwvc3R5bGU+CiAgICAgICAgCjwvaGVhZD4KPGJvZHk+ICAgIAogICAgCiAgICAgICAgICAgIDxkaXYgY2xhc3M9ImZvbGl1bS1tYXAiIGlkPSJtYXBfNjIwM2MyMjRiNmY4NDkwNzg3MTkzMjhjNmQ2MWVkMDYiID48L2Rpdj4KICAgICAgICAKPC9ib2R5Pgo8c2NyaXB0PiAgICAKICAgIAogICAgICAgICAgICB2YXIgbWFwXzYyMDNjMjI0YjZmODQ5MDc4NzE5MzI4YzZkNjFlZDA2ID0gTC5tYXAoCiAgICAgICAgICAgICAgICAibWFwXzYyMDNjMjI0YjZmODQ5MDc4NzE5MzI4YzZkNjFlZDA2IiwKICAgICAgICAgICAgICAgIHsKICAgICAgICAgICAgICAgICAgICBjZW50ZXI6IFs0My42NDk5NDg3LCAtNzkuMzg3ODY0M10sCiAgICAgICAgICAgICAgICAgICAgY3JzOiBMLkNSUy5FUFNHMzg1NywKICAgICAgICAgICAgICAgICAgICB6b29tOiAxMSwKICAgICAgICAgICAgICAgICAgICB6b29tQ29udHJvbDogdHJ1ZSwKICAgICAgICAgICAgICAgICAgICBwcmVmZXJDYW52YXM6IGZhbHNlLAogICAgICAgICAgICAgICAgfQogICAgICAgICAgICApOwoKICAgICAgICAgICAgCgogICAgICAgIAogICAgCiAgICAgICAgICAgIHZhciB0aWxlX2xheWVyX2E2MDNiYTIxYzcyNzQ3Mjk5MWE0MWJiY2NlMDUwMTdiID0gTC50aWxlTGF5ZXIoCiAgICAgICAgICAgICAgICAiaHR0cHM6Ly97c30udGlsZS5vcGVuc3RyZWV0bWFwLm9yZy97en0ve3h9L3t5fS5wbmciLAogICAgICAgICAgICAgICAgeyJhdHRyaWJ1dGlvbiI6ICJEYXRhIGJ5IFx1MDAyNmNvcHk7IFx1MDAzY2EgaHJlZj1cImh0dHA6Ly9vcGVuc3RyZWV0bWFwLm9yZ1wiXHUwMDNlT3BlblN0cmVldE1hcFx1MDAzYy9hXHUwMDNlLCB1bmRlciBcdTAwM2NhIGhyZWY9XCJodHRwOi8vd3d3Lm9wZW5zdHJlZXRtYXAub3JnL2NvcHlyaWdodFwiXHUwMDNlT0RiTFx1MDAzYy9hXHUwMDNlLiIsICJkZXRlY3RSZXRpbmEiOiBmYWxzZSwgIm1heE5hdGl2ZVpvb20iOiAxOCwgIm1heFpvb20iOiAxOCwgIm1pblpvb20iOiAwLCAibm9XcmFwIjogZmFsc2UsICJvcGFjaXR5IjogMSwgInN1YmRvbWFpbnMiOiAiYWJjIiwgInRtcyI6IGZhbHNlfQogICAgICAgICAgICApLmFkZFRvKG1hcF82MjAzYzIyNGI2Zjg0OTA3ODcxOTMyOGM2ZDYxZWQwNik7CiAgICAgICAgCiAgICAKICAgICAgICAgICAgdmFyIGNpcmNsZV9tYXJrZXJfOTM0M2RhM2EwNjg5NDExMjgwZDhkZThjOGY1N2Q1MzQgPSBMLmNpcmNsZU1hcmtlcigKICAgICAgICAgICAgICAgIFs0My42NjY4MDU5MTY2NjY2NywgLTc5LjM3NDA2NDczMzMzMzM0XSwKICAgICAgICAgICAgICAgIHsiYnViYmxpbmdNb3VzZUV2ZW50cyI6IHRydWUsICJjb2xvciI6ICIjODAwMGZmIiwgImRhc2hBcnJheSI6IG51bGwsICJkYXNoT2Zmc2V0IjogbnVsbCwgImZpbGwiOiB0cnVlLCAiZmlsbENvbG9yIjogIiM4MDAwZmYiLCAiZmlsbE9wYWNpdHkiOiAwLjcsICJmaWxsUnVsZSI6ICJldmVub2RkIiwgImxpbmVDYXAiOiAicm91bmQiLCAibGluZUpvaW4iOiAicm91bmQiLCAib3BhY2l0eSI6IDEuMCwgInJhZGl1cyI6IDEwLCAic3Ryb2tlIjogdHJ1ZSwgIndlaWdodCI6IDN9CiAgICAgICAgICAgICkuYWRkVG8obWFwXzYyMDNjMjI0YjZmODQ5MDc4NzE5MzI4YzZkNjFlZDA2KTsKICAgICAgICAKICAgIAogICAgICAgIHZhciBwb3B1cF8yMjg1YjBmZDY5MjA0MGNjODk3N2NjMGEzM2YwZDAwYiA9IEwucG9wdXAoeyJtYXhXaWR0aCI6ICIxMDAlIn0pOwoKICAgICAgICAKICAgICAgICAgICAgdmFyIGh0bWxfMDEzNTJlYWIyYzRiNDdhNzkyNDQ4MjFiM2VhZjNhNTQgPSAkKGA8ZGl2IGlkPSJodG1sXzAxMzUyZWFiMmM0YjQ3YTc5MjQ0ODIxYjNlYWYzYTU0IiBzdHlsZT0id2lkdGg6IDEwMC4wJTsgaGVpZ2h0OiAxMDAuMCU7Ij5DbHVzdGVyIDE8L2Rpdj5gKVswXTsKICAgICAgICAgICAgcG9wdXBfMjI4NWIwZmQ2OTIwNDBjYzg5NzdjYzBhMzNmMGQwMGIuc2V0Q29udGVudChodG1sXzAxMzUyZWFiMmM0YjQ3YTc5MjQ0ODIxYjNlYWYzYTU0KTsKICAgICAgICAKCiAgICAgICAgY2lyY2xlX21hcmtlcl85MzQzZGEzYTA2ODk0MTEyODBkOGRlOGM4ZjU3ZDUzNC5iaW5kUG9wdXAocG9wdXBfMjI4NWIwZmQ2OTIwNDBjYzg5NzdjYzBhMzNmMGQwMGIpCiAgICAgICAgOwoKICAgICAgICAKICAgIAogICAgCiAgICAgICAgICAgIHZhciBjaXJjbGVfbWFya2VyX2Q5OWI1Y2VjODUzNDRlMmJiOTRlODY0ZWUwOTkzYzMwID0gTC5jaXJjbGVNYXJrZXIoCiAgICAgICAgICAgICAgICBbNDMuNjM3NzY2MjgsIC03OS41MzM1NjkzNF0sCiAgICAgICAgICAgICAgICB7ImJ1YmJsaW5nTW91c2VFdmVudHMiOiB0cnVlLCAiY29sb3IiOiAiIzJjN2VmNyIsICJkYXNoQXJyYXkiOiBudWxsLCAiZGFzaE9mZnNldCI6IG51bGwsICJmaWxsIjogdHJ1ZSwgImZpbGxDb2xvciI6ICIjMmM3ZWY3IiwgImZpbGxPcGFjaXR5IjogMC43LCAiZmlsbFJ1bGUiOiAiZXZlbm9kZCIsICJsaW5lQ2FwIjogInJvdW5kIiwgImxpbmVKb2luIjogInJvdW5kIiwgIm9wYWNpdHkiOiAxLjAsICJyYWRpdXMiOiAxMCwgInN0cm9rZSI6IHRydWUsICJ3ZWlnaHQiOiAzfQogICAgICAgICAgICApLmFkZFRvKG1hcF82MjAzYzIyNGI2Zjg0OTA3ODcxOTMyOGM2ZDYxZWQwNik7CiAgICAgICAgCiAgICAKICAgICAgICB2YXIgcG9wdXBfNWRkMDFjMzZiYjA1NDEyMDhiNjdkZDg0MmU3YjQ1YmMgPSBMLnBvcHVwKHsibWF4V2lkdGgiOiAiMTAwJSJ9KTsKCiAgICAgICAgCiAgICAgICAgICAgIHZhciBodG1sXzVlMzc5MGIxM2FlODQzM2RhYmMxNDgzNTQ3YzFjNjQwID0gJChgPGRpdiBpZD0iaHRtbF81ZTM3OTBiMTNhZTg0MzNkYWJjMTQ4MzU0N2MxYzY0MCIgc3R5bGU9IndpZHRoOiAxMDAuMCU7IGhlaWdodDogMTAwLjAlOyI+Q2x1c3RlciAyPC9kaXY+YClbMF07CiAgICAgICAgICAgIHBvcHVwXzVkZDAxYzM2YmIwNTQxMjA4YjY3ZGQ4NDJlN2I0NWJjLnNldENvbnRlbnQoaHRtbF81ZTM3OTBiMTNhZTg0MzNkYWJjMTQ4MzU0N2MxYzY0MCk7CiAgICAgICAgCgogICAgICAgIGNpcmNsZV9tYXJrZXJfZDk5YjVjZWM4NTM0NGUyYmI5NGU4NjRlZTA5OTNjMzAuYmluZFBvcHVwKHBvcHVwXzVkZDAxYzM2YmIwNTQxMjA4YjY3ZGQ4NDJlN2I0NWJjKQogICAgICAgIDsKCiAgICAgICAgCiAgICAKICAgIAogICAgICAgICAgICB2YXIgY2lyY2xlX21hcmtlcl9mNDA2YjY0NjUzOTM0MmRjYTM5ODM1YzY0ODhlNDE3MSA9IEwuY2lyY2xlTWFya2VyKAogICAgICAgICAgICAgICAgWzQzLjc4NzY5MjYxMTExMTExLCAtNzkuMjIxMjk3MTQ0NDQ0NDVdLAogICAgICAgICAgICAgICAgeyJidWJibGluZ01vdXNlRXZlbnRzIjogdHJ1ZSwgImNvbG9yIjogIiMyYWRkZGQiLCAiZGFzaEFycmF5IjogbnVsbCwgImRhc2hPZmZzZXQiOiBudWxsLCAiZmlsbCI6IHRydWUsICJmaWxsQ29sb3IiOiAiIzJhZGRkZCIsICJmaWxsT3BhY2l0eSI6IDAuNywgImZpbGxSdWxlIjogImV2ZW5vZGQiLCAibGluZUNhcCI6ICJyb3VuZCIsICJsaW5lSm9pbiI6ICJyb3VuZCIsICJvcGFjaXR5IjogMS4wLCAicmFkaXVzIjogMTAsICJzdHJva2UiOiB0cnVlLCAid2VpZ2h0IjogM30KICAgICAgICAgICAgKS5hZGRUbyhtYXBfNjIwM2MyMjRiNmY4NDkwNzg3MTkzMjhjNmQ2MWVkMDYpOwogICAgICAgIAogICAgCiAgICAgICAgdmFyIHBvcHVwXzJkMzI5ZDBlOTg3ZjRjZjRhYmM2NjUyZTYyNjcwZGYyID0gTC5wb3B1cCh7Im1heFdpZHRoIjogIjEwMCUifSk7CgogICAgICAgIAogICAgICAgICAgICB2YXIgaHRtbF83ZmJhZTFhOTA2NTE0ZDk4OGRhNDlmZDczYWZkYzA5ZCA9ICQoYDxkaXYgaWQ9Imh0bWxfN2ZiYWUxYTkwNjUxNGQ5ODhkYTQ5ZmQ3M2FmZGMwOWQiIHN0eWxlPSJ3aWR0aDogMTAwLjAlOyBoZWlnaHQ6IDEwMC4wJTsiPkNsdXN0ZXIgMzwvZGl2PmApWzBdOwogICAgICAgICAgICBwb3B1cF8yZDMyOWQwZTk4N2Y0Y2Y0YWJjNjY1MmU2MjY3MGRmMi5zZXRDb250ZW50KGh0bWxfN2ZiYWUxYTkwNjUxNGQ5ODhkYTQ5ZmQ3M2FmZGMwOWQpOwogICAgICAgIAoKICAgICAgICBjaXJjbGVfbWFya2VyX2Y0MDZiNjQ2NTM5MzQyZGNhMzk4MzVjNjQ4OGU0MTcxLmJpbmRQb3B1cChwb3B1cF8yZDMyOWQwZTk4N2Y0Y2Y0YWJjNjY1MmU2MjY3MGRmMikKICAgICAgICA7CgogICAgICAgIAogICAgCiAgICAKICAgICAgICAgICAgdmFyIGNpcmNsZV9tYXJrZXJfMmE5M2UyNDdjMTM3NGI5ZmFiMmE1M2Q0NjhmZjcxOGEgPSBMLmNpcmNsZU1hcmtlcigKICAgICAgICAgICAgICAgIFs0My43NjUyNDM0OTE2NjY2NjYsIC03OS4zOTQ0MTQ4MTY2NjY2N10sCiAgICAgICAgICAgICAgICB7ImJ1YmJsaW5nTW91c2VFdmVudHMiOiB0cnVlLCAiY29sb3IiOiAiIzgwZmZiNCIsICJkYXNoQXJyYXkiOiBudWxsLCAiZGFzaE9mZnNldCI6IG51bGwsICJmaWxsIjogdHJ1ZSwgImZpbGxDb2xvciI6ICIjODBmZmI0IiwgImZpbGxPcGFjaXR5IjogMC43LCAiZmlsbFJ1bGUiOiAiZXZlbm9kZCIsICJsaW5lQ2FwIjogInJvdW5kIiwgImxpbmVKb2luIjogInJvdW5kIiwgIm9wYWNpdHkiOiAxLjAsICJyYWRpdXMiOiAxMCwgInN0cm9rZSI6IHRydWUsICJ3ZWlnaHQiOiAzfQogICAgICAgICAgICApLmFkZFRvKG1hcF82MjAzYzIyNGI2Zjg0OTA3ODcxOTMyOGM2ZDYxZWQwNik7CiAgICAgICAgCiAgICAKICAgICAgICB2YXIgcG9wdXBfMWJhNmRmMjliZWEzNDU1MDgzMWI0MjhiZTc2MTg3ZDIgPSBMLnBvcHVwKHsibWF4V2lkdGgiOiAiMTAwJSJ9KTsKCiAgICAgICAgCiAgICAgICAgICAgIHZhciBodG1sXzlmN2QwNjg5YTkyZTRmYWY5ZjE4NjU0NTMzY2I0NTAzID0gJChgPGRpdiBpZD0iaHRtbF85ZjdkMDY4OWE5MmU0ZmFmOWYxODY1NDUzM2NiNDUwMyIgc3R5bGU9IndpZHRoOiAxMDAuMCU7IGhlaWdodDogMTAwLjAlOyI+Q2x1c3RlciA0PC9kaXY+YClbMF07CiAgICAgICAgICAgIHBvcHVwXzFiYTZkZjI5YmVhMzQ1NTA4MzFiNDI4YmU3NjE4N2QyLnNldENvbnRlbnQoaHRtbF85ZjdkMDY4OWE5MmU0ZmFmOWYxODY1NDUzM2NiNDUwMyk7CiAgICAgICAgCgogICAgICAgIGNpcmNsZV9tYXJrZXJfMmE5M2UyNDdjMTM3NGI5ZmFiMmE1M2Q0NjhmZjcxOGEuYmluZFBvcHVwKHBvcHVwXzFiYTZkZjI5YmVhMzQ1NTA4MzFiNDI4YmU3NjE4N2QyKQogICAgICAgIDsKCiAgICAgICAgCiAgICAKICAgIAogICAgICAgICAgICB2YXIgY2lyY2xlX21hcmtlcl84N2Q1NmRiNzZhMDU0YjY3ODc2MzI2ZDcwMzRjMGI1MSA9IEwuY2lyY2xlTWFya2VyKAogICAgICAgICAgICAgICAgWzQzLjcyOTk4NTQ4NTcxNDI5LCAtNzkuMjk2NDQ4NzY0Mjg1NzFdLAogICAgICAgICAgICAgICAgeyJidWJibGluZ01vdXNlRXZlbnRzIjogdHJ1ZSwgImNvbG9yIjogIiNkNGRkODAiLCAiZGFzaEFycmF5IjogbnVsbCwgImRhc2hPZmZzZXQiOiBudWxsLCAiZmlsbCI6IHRydWUsICJmaWxsQ29sb3IiOiAiI2Q0ZGQ4MCIsICJmaWxsT3BhY2l0eSI6IDAuNywgImZpbGxSdWxlIjogImV2ZW5vZGQiLCAibGluZUNhcCI6ICJyb3VuZCIsICJsaW5lSm9pbiI6ICJyb3VuZCIsICJvcGFjaXR5IjogMS4wLCAicmFkaXVzIjogMTAsICJzdHJva2UiOiB0cnVlLCAid2VpZ2h0IjogM30KICAgICAgICAgICAgKS5hZGRUbyhtYXBfNjIwM2MyMjRiNmY4NDkwNzg3MTkzMjhjNmQ2MWVkMDYpOwogICAgICAgIAogICAgCiAgICAgICAgdmFyIHBvcHVwX2M5MjY0OGM0Mzc4MDQxZjFhNTU3NDE2ZGJhMzYwMmZmID0gTC5wb3B1cCh7Im1heFdpZHRoIjogIjEwMCUifSk7CgogICAgICAgIAogICAgICAgICAgICB2YXIgaHRtbF83ZGQ4MDc1MjI0ZjE0M2RjYmYxMmY5NDVhMzExMDkxNSA9ICQoYDxkaXYgaWQ9Imh0bWxfN2RkODA3NTIyNGYxNDNkY2JmMTJmOTQ1YTMxMTA5MTUiIHN0eWxlPSJ3aWR0aDogMTAwLjAlOyBoZWlnaHQ6IDEwMC4wJTsiPkNsdXN0ZXIgNTwvZGl2PmApWzBdOwogICAgICAgICAgICBwb3B1cF9jOTI2NDhjNDM3ODA0MWYxYTU1NzQxNmRiYTM2MDJmZi5zZXRDb250ZW50KGh0bWxfN2RkODA3NTIyNGYxNDNkY2JmMTJmOTQ1YTMxMTA5MTUpOwogICAgICAgIAoKICAgICAgICBjaXJjbGVfbWFya2VyXzg3ZDU2ZGI3NmEwNTRiNjc4NzYzMjZkNzAzNGMwYjUxLmJpbmRQb3B1cChwb3B1cF9jOTI2NDhjNDM3ODA0MWYxYTU1NzQxNmRiYTM2MDJmZikKICAgICAgICA7CgogICAgICAgIAogICAgCiAgICAKICAgICAgICAgICAgdmFyIGNpcmNsZV9tYXJrZXJfOWVjODRjM2MxYWY5NDczMDkwNGE4YzQ1YTVjNGM2OGQgPSBMLmNpcmNsZU1hcmtlcigKICAgICAgICAgICAgICAgIFs0My42ODU2NjE5Mzc1LCAtNzkuNDQyOTU5NDYyNV0sCiAgICAgICAgICAgICAgICB7ImJ1YmJsaW5nTW91c2VFdmVudHMiOiB0cnVlLCAiY29sb3IiOiAiI2ZmN2U0MSIsICJkYXNoQXJyYXkiOiBudWxsLCAiZGFzaE9mZnNldCI6IG51bGwsICJmaWxsIjogdHJ1ZSwgImZpbGxDb2xvciI6ICIjZmY3ZTQxIiwgImZpbGxPcGFjaXR5IjogMC43LCAiZmlsbFJ1bGUiOiAiZXZlbm9kZCIsICJsaW5lQ2FwIjogInJvdW5kIiwgImxpbmVKb2luIjogInJvdW5kIiwgIm9wYWNpdHkiOiAxLjAsICJyYWRpdXMiOiAxMCwgInN0cm9rZSI6IHRydWUsICJ3ZWlnaHQiOiAzfQogICAgICAgICAgICApLmFkZFRvKG1hcF82MjAzYzIyNGI2Zjg0OTA3ODcxOTMyOGM2ZDYxZWQwNik7CiAgICAgICAgCiAgICAKICAgICAgICB2YXIgcG9wdXBfY2UxZjBmZTRjMjkwNGQyZGJiYjkyZThmNTAzNzAzN2UgPSBMLnBvcHVwKHsibWF4V2lkdGgiOiAiMTAwJSJ9KTsKCiAgICAgICAgCiAgICAgICAgICAgIHZhciBodG1sXzExMDk3ODFmMjlkNDRjYWZiODhiYzQxYWE5ZWExMGMzID0gJChgPGRpdiBpZD0iaHRtbF8xMTA5NzgxZjI5ZDQ0Y2FmYjg4YmM0MWFhOWVhMTBjMyIgc3R5bGU9IndpZHRoOiAxMDAuMCU7IGhlaWdodDogMTAwLjAlOyI+Q2x1c3RlciA2PC9kaXY+YClbMF07CiAgICAgICAgICAgIHBvcHVwX2NlMWYwZmU0YzI5MDRkMmRiYmI5MmU4ZjUwMzcwMzdlLnNldENvbnRlbnQoaHRtbF8xMTA5NzgxZjI5ZDQ0Y2FmYjg4YmM0MWFhOWVhMTBjMyk7CiAgICAgICAgCgogICAgICAgIGNpcmNsZV9tYXJrZXJfOWVjODRjM2MxYWY5NDczMDkwNGE4YzQ1YTVjNGM2OGQuYmluZFBvcHVwKHBvcHVwX2NlMWYwZmU0YzI5MDRkMmRiYmI5MmU4ZjUwMzcwMzdlKQogICAgICAgIDsKCiAgICAgICAgCiAgICAKICAgIAogICAgICAgICAgICB2YXIgY2lyY2xlX21hcmtlcl85ZTI1MDNjM2I3MGI0NTdiODQxOTEyOWU2M2VlNTkxNCA9IEwuY2lyY2xlTWFya2VyKAogICAgICAgICAgICAgICAgWzQzLjcyNzUxNzc1ODMzMzMzNSwgLTc5LjUzMjIzNTY5MTY2NjY3XSwKICAgICAgICAgICAgICAgIHsiYnViYmxpbmdNb3VzZUV2ZW50cyI6IHRydWUsICJjb2xvciI6ICIjZmYwMDAwIiwgImRhc2hBcnJheSI6IG51bGwsICJkYXNoT2Zmc2V0IjogbnVsbCwgImZpbGwiOiB0cnVlLCAiZmlsbENvbG9yIjogIiNmZjAwMDAiLCAiZmlsbE9wYWNpdHkiOiAwLjcsICJmaWxsUnVsZSI6ICJldmVub2RkIiwgImxpbmVDYXAiOiAicm91bmQiLCAibGluZUpvaW4iOiAicm91bmQiLCAib3BhY2l0eSI6IDEuMCwgInJhZGl1cyI6IDEwLCAic3Ryb2tlIjogdHJ1ZSwgIndlaWdodCI6IDN9CiAgICAgICAgICAgICkuYWRkVG8obWFwXzYyMDNjMjI0YjZmODQ5MDc4NzE5MzI4YzZkNjFlZDA2KTsKICAgICAgICAKICAgIAogICAgICAgIHZhciBwb3B1cF84NGYwM2M4ZDYyNDk0ZjcxOTU5ODFkYTU1YTcyNDE4ZSA9IEwucG9wdXAoeyJtYXhXaWR0aCI6ICIxMDAlIn0pOwoKICAgICAgICAKICAgICAgICAgICAgdmFyIGh0bWxfZTBlMDUxZWVlMmQ4NDU2OTkxMzZjYWQ5YzEwY2ZhNjYgPSAkKGA8ZGl2IGlkPSJodG1sX2UwZTA1MWVlZTJkODQ1Njk5MTM2Y2FkOWMxMGNmYTY2IiBzdHlsZT0id2lkdGg6IDEwMC4wJTsgaGVpZ2h0OiAxMDAuMCU7Ij5DbHVzdGVyIDc8L2Rpdj5gKVswXTsKICAgICAgICAgICAgcG9wdXBfODRmMDNjOGQ2MjQ5NGY3MTk1OTgxZGE1NWE3MjQxOGUuc2V0Q29udGVudChodG1sX2UwZTA1MWVlZTJkODQ1Njk5MTM2Y2FkOWMxMGNmYTY2KTsKICAgICAgICAKCiAgICAgICAgY2lyY2xlX21hcmtlcl85ZTI1MDNjM2I3MGI0NTdiODQxOTEyOWU2M2VlNTkxNC5iaW5kUG9wdXAocG9wdXBfODRmMDNjOGQ2MjQ5NGY3MTk1OTgxZGE1NWE3MjQxOGUpCiAgICAgICAgOwoKICAgICAgICAKICAgIAo8L3NjcmlwdD4= onload=\"this.contentDocument.open();this.contentDocument.write(atob(this.getAttribute('data-html')));this.contentDocument.close();\" allowfullscreen webkitallowfullscreen mozallowfullscreen></iframe></div></div>"
     },
     "metadata": {},
     "execution_count": 12
    }
   ],
   "source": [
    "# create map\n",
    "map_clusters = folium.Map(location=[43.6499487,-79.3878643], zoom_start=11)\n",
    "\n",
    "# set color scheme for the clusters\n",
    "x = np.arange(kclusters)\n",
    "ys = [i + x + (i*x)**2 for i in range(kclusters)]\n",
    "colors_array = cm.rainbow(np.linspace(0, 1, len(ys)))\n",
    "rainbow = [colors.rgb2hex(i) for i in colors_array]\n",
    "\n",
    "# add markers to the map\n",
    "markers_colors = []\n",
    "for lat, lon, cluster in zip(kmeans.cluster_centers_[:,0], kmeans.cluster_centers_[:,1], range(kclusters)):\n",
    "    folium.CircleMarker(\n",
    "        [lat, lon],\n",
    "        radius=10,\n",
    "        popup='Cluster ' + str(cluster+1),\n",
    "        color=rainbow[cluster],\n",
    "        fill=True,\n",
    "        fill_color=rainbow[cluster],\n",
    "        fill_opacity=0.7).add_to(map_clusters)\n",
    "       \n",
    "map_clusters"
   ]
  },
  {
   "cell_type": "markdown",
   "metadata": {},
   "source": [
    "## <center>Ok, part 3 completed!</center>"
   ]
  }
 ],
 "metadata": {
  "language_info": {
   "codemirror_mode": {
    "name": "ipython",
    "version": 3
   },
   "file_extension": ".py",
   "mimetype": "text/x-python",
   "name": "python",
   "nbconvert_exporter": "python",
   "pygments_lexer": "ipython3",
   "version": "3.6.6-final"
  },
  "orig_nbformat": 2,
  "kernelspec": {
   "name": "python36664bitfa29e3ceeff54882ab4140e5fdaaf523",
   "display_name": "Python 3.6.6 64-bit"
  }
 },
 "nbformat": 4,
 "nbformat_minor": 2
}